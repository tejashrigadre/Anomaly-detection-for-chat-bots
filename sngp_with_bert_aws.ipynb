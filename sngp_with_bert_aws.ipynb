{
 "cells": [
  {
   "cell_type": "markdown",
   "metadata": {
    "id": "-bsids4eAYYI"
   },
   "source": [
    "## Implementing BERT with SNGP"
   ]
  },
  {
   "cell_type": "code",
   "execution_count": 4,
   "metadata": {
    "collapsed": true,
    "id": "MmlftNekWmKR",
    "jupyter": {
     "outputs_hidden": true
    },
    "tags": []
   },
   "outputs": [
    {
     "name": "stdout",
     "output_type": "stream",
     "text": [
      "Collecting tensorflow_text==2.7.3\n",
      "  Using cached tensorflow_text-2.7.3-cp38-cp38-manylinux2010_x86_64.whl (4.9 MB)\n",
      "Collecting tensorflow-hub>=0.8.0\n",
      "  Using cached tensorflow_hub-0.12.0-py2.py3-none-any.whl (108 kB)\n",
      "Collecting tensorflow<2.8,>=2.7.0\n",
      "  Using cached tensorflow-2.7.1-cp38-cp38-manylinux2010_x86_64.whl (495.1 MB)\n",
      "Collecting tensorflow-estimator<2.8,~=2.7.0rc0\n",
      "  Using cached tensorflow_estimator-2.7.0-py2.py3-none-any.whl (463 kB)\n",
      "Requirement already satisfied: six>=1.12.0 in /usr/local/lib/python3.8/site-packages (from tensorflow<2.8,>=2.7.0->tensorflow_text==2.7.3) (1.16.0)\n",
      "Collecting libclang>=9.0.1\n",
      "  Using cached libclang-13.0.0-py2.py3-none-manylinux1_x86_64.whl (14.5 MB)\n",
      "Requirement already satisfied: flatbuffers<3.0,>=1.12 in /usr/local/lib/python3.8/site-packages (from tensorflow<2.8,>=2.7.0->tensorflow_text==2.7.3) (1.12)\n",
      "Collecting keras<2.8,>=2.7.0rc0\n",
      "  Using cached keras-2.7.0-py2.py3-none-any.whl (1.3 MB)\n",
      "Requirement already satisfied: wheel<1.0,>=0.32.0 in /usr/local/lib/python3.8/site-packages (from tensorflow<2.8,>=2.7.0->tensorflow_text==2.7.3) (0.37.0)\n",
      "Requirement already satisfied: gast<0.5.0,>=0.2.1 in /usr/local/lib/python3.8/site-packages (from tensorflow<2.8,>=2.7.0->tensorflow_text==2.7.3) (0.4.0)\n",
      "Requirement already satisfied: protobuf>=3.9.2 in /usr/local/lib/python3.8/site-packages (from tensorflow<2.8,>=2.7.0->tensorflow_text==2.7.3) (3.19.1)\n",
      "Requirement already satisfied: wrapt>=1.11.0 in /usr/local/lib/python3.8/site-packages (from tensorflow<2.8,>=2.7.0->tensorflow_text==2.7.3) (1.12.1)\n",
      "Requirement already satisfied: astunparse>=1.6.0 in /usr/local/lib/python3.8/site-packages (from tensorflow<2.8,>=2.7.0->tensorflow_text==2.7.3) (1.6.3)\n",
      "Requirement already satisfied: google-pasta>=0.1.1 in /usr/local/lib/python3.8/site-packages (from tensorflow<2.8,>=2.7.0->tensorflow_text==2.7.3) (0.2.0)\n",
      "Requirement already satisfied: grpcio<2.0,>=1.24.3 in /usr/local/lib/python3.8/site-packages (from tensorflow<2.8,>=2.7.0->tensorflow_text==2.7.3) (1.42.0)\n",
      "Requirement already satisfied: opt-einsum>=2.3.2 in /usr/local/lib/python3.8/site-packages (from tensorflow<2.8,>=2.7.0->tensorflow_text==2.7.3) (3.3.0)\n",
      "Requirement already satisfied: numpy>=1.14.5 in /usr/local/lib/python3.8/site-packages (from tensorflow<2.8,>=2.7.0->tensorflow_text==2.7.3) (1.19.5)\n",
      "Requirement already satisfied: termcolor>=1.1.0 in /usr/local/lib/python3.8/site-packages (from tensorflow<2.8,>=2.7.0->tensorflow_text==2.7.3) (1.1.0)\n",
      "Requirement already satisfied: typing-extensions>=3.6.6 in /usr/local/lib/python3.8/site-packages (from tensorflow<2.8,>=2.7.0->tensorflow_text==2.7.3) (3.7.4.3)\n",
      "Requirement already satisfied: tensorboard~=2.6 in /usr/local/lib/python3.8/site-packages (from tensorflow<2.8,>=2.7.0->tensorflow_text==2.7.3) (2.6.0)\n",
      "Requirement already satisfied: keras-preprocessing>=1.1.1 in /usr/local/lib/python3.8/site-packages (from tensorflow<2.8,>=2.7.0->tensorflow_text==2.7.3) (1.1.2)\n",
      "Requirement already satisfied: h5py>=2.9.0 in /usr/local/lib/python3.8/site-packages (from tensorflow<2.8,>=2.7.0->tensorflow_text==2.7.3) (3.1.0)\n",
      "Requirement already satisfied: tensorflow-io-gcs-filesystem>=0.21.0 in /usr/local/lib/python3.8/site-packages (from tensorflow<2.8,>=2.7.0->tensorflow_text==2.7.3) (0.21.0)\n",
      "Requirement already satisfied: absl-py>=0.4.0 in /usr/local/lib/python3.8/site-packages (from tensorflow<2.8,>=2.7.0->tensorflow_text==2.7.3) (0.10.0)\n",
      "Requirement already satisfied: setuptools>=41.0.0 in /usr/local/lib/python3.8/site-packages (from tensorboard~=2.6->tensorflow<2.8,>=2.7.0->tensorflow_text==2.7.3) (59.5.0)\n",
      "Requirement already satisfied: google-auth<2,>=1.6.3 in /usr/local/lib/python3.8/site-packages (from tensorboard~=2.6->tensorflow<2.8,>=2.7.0->tensorflow_text==2.7.3) (1.35.0)\n",
      "Requirement already satisfied: tensorboard-data-server<0.7.0,>=0.6.0 in /usr/local/lib/python3.8/site-packages (from tensorboard~=2.6->tensorflow<2.8,>=2.7.0->tensorflow_text==2.7.3) (0.6.1)\n",
      "Requirement already satisfied: tensorboard-plugin-wit>=1.6.0 in /usr/local/lib/python3.8/site-packages (from tensorboard~=2.6->tensorflow<2.8,>=2.7.0->tensorflow_text==2.7.3) (1.8.0)\n",
      "Requirement already satisfied: werkzeug>=0.11.15 in /usr/local/lib/python3.8/site-packages (from tensorboard~=2.6->tensorflow<2.8,>=2.7.0->tensorflow_text==2.7.3) (2.0.2)\n",
      "Requirement already satisfied: google-auth-oauthlib<0.5,>=0.4.1 in /usr/local/lib/python3.8/site-packages (from tensorboard~=2.6->tensorflow<2.8,>=2.7.0->tensorflow_text==2.7.3) (0.4.6)\n",
      "Requirement already satisfied: markdown>=2.6.8 in /usr/local/lib/python3.8/site-packages (from tensorboard~=2.6->tensorflow<2.8,>=2.7.0->tensorflow_text==2.7.3) (3.3.6)\n",
      "Requirement already satisfied: requests<3,>=2.21.0 in /usr/local/lib/python3.8/site-packages (from tensorboard~=2.6->tensorflow<2.8,>=2.7.0->tensorflow_text==2.7.3) (2.25.1)\n",
      "Requirement already satisfied: pyasn1-modules>=0.2.1 in /usr/local/lib/python3.8/site-packages (from google-auth<2,>=1.6.3->tensorboard~=2.6->tensorflow<2.8,>=2.7.0->tensorflow_text==2.7.3) (0.2.8)\n",
      "Requirement already satisfied: cachetools<5.0,>=2.0.0 in /usr/local/lib/python3.8/site-packages (from google-auth<2,>=1.6.3->tensorboard~=2.6->tensorflow<2.8,>=2.7.0->tensorflow_text==2.7.3) (4.2.4)\n",
      "Requirement already satisfied: rsa<5,>=3.1.4 in /usr/local/lib/python3.8/site-packages (from google-auth<2,>=1.6.3->tensorboard~=2.6->tensorflow<2.8,>=2.7.0->tensorflow_text==2.7.3) (4.7.2)\n",
      "Requirement already satisfied: requests-oauthlib>=0.7.0 in /usr/local/lib/python3.8/site-packages (from google-auth-oauthlib<0.5,>=0.4.1->tensorboard~=2.6->tensorflow<2.8,>=2.7.0->tensorflow_text==2.7.3) (1.3.0)\n",
      "Requirement already satisfied: importlib-metadata>=4.4 in /usr/local/lib/python3.8/site-packages (from markdown>=2.6.8->tensorboard~=2.6->tensorflow<2.8,>=2.7.0->tensorflow_text==2.7.3) (4.8.2)\n",
      "Requirement already satisfied: idna<3,>=2.5 in /usr/local/lib/python3.8/site-packages (from requests<3,>=2.21.0->tensorboard~=2.6->tensorflow<2.8,>=2.7.0->tensorflow_text==2.7.3) (2.10)\n",
      "Requirement already satisfied: chardet<5,>=3.0.2 in /usr/local/lib/python3.8/site-packages (from requests<3,>=2.21.0->tensorboard~=2.6->tensorflow<2.8,>=2.7.0->tensorflow_text==2.7.3) (4.0.0)\n",
      "Requirement already satisfied: urllib3<1.27,>=1.21.1 in /usr/local/lib/python3.8/site-packages (from requests<3,>=2.21.0->tensorboard~=2.6->tensorflow<2.8,>=2.7.0->tensorflow_text==2.7.3) (1.26.7)\n",
      "Requirement already satisfied: certifi>=2017.4.17 in /usr/local/lib/python3.8/site-packages (from requests<3,>=2.21.0->tensorboard~=2.6->tensorflow<2.8,>=2.7.0->tensorflow_text==2.7.3) (2021.10.8)\n",
      "Requirement already satisfied: zipp>=0.5 in /usr/local/lib/python3.8/site-packages (from importlib-metadata>=4.4->markdown>=2.6.8->tensorboard~=2.6->tensorflow<2.8,>=2.7.0->tensorflow_text==2.7.3) (3.6.0)\n",
      "Requirement already satisfied: pyasn1<0.5.0,>=0.4.6 in /usr/local/lib/python3.8/site-packages (from pyasn1-modules>=0.2.1->google-auth<2,>=1.6.3->tensorboard~=2.6->tensorflow<2.8,>=2.7.0->tensorflow_text==2.7.3) (0.4.8)\n",
      "Requirement already satisfied: oauthlib>=3.0.0 in /usr/local/lib/python3.8/site-packages (from requests-oauthlib>=0.7.0->google-auth-oauthlib<0.5,>=0.4.1->tensorboard~=2.6->tensorflow<2.8,>=2.7.0->tensorflow_text==2.7.3) (3.1.1)\n",
      "Installing collected packages: tensorflow-estimator, libclang, keras, tensorflow-hub, tensorflow, tensorflow-text\n",
      "  Attempting uninstall: tensorflow-estimator\n",
      "    Found existing installation: tensorflow-estimator 2.6.0\n",
      "    Uninstalling tensorflow-estimator-2.6.0:\n",
      "      Successfully uninstalled tensorflow-estimator-2.6.0\n",
      "  Attempting uninstall: keras\n",
      "    Found existing installation: keras 2.6.0\n",
      "    Uninstalling keras-2.6.0:\n",
      "      Successfully uninstalled keras-2.6.0\n",
      "  Attempting uninstall: tensorflow\n",
      "    Found existing installation: tensorflow 2.6.2\n",
      "    Uninstalling tensorflow-2.6.2:\n",
      "      Successfully uninstalled tensorflow-2.6.2\n",
      "\u001b[31mERROR: pip's dependency resolver does not currently take into account all the packages that are installed. This behaviour is the source of the following dependency conflicts.\n",
      "tensorflow-io 0.21.0 requires tensorflow<2.7.0,>=2.6.0, but you have tensorflow 2.7.1 which is incompatible.\u001b[0m\n",
      "Successfully installed keras-2.7.0 libclang-13.0.0 tensorflow-2.7.1 tensorflow-estimator-2.7.0 tensorflow-hub-0.12.0 tensorflow-text-2.7.3\n",
      "\u001b[33mWARNING: Running pip as the 'root' user can result in broken permissions and conflicting behaviour with the system package manager. It is recommended to use a virtual environment instead: https://pip.pypa.io/warnings/venv\u001b[0m\n",
      "\u001b[33mWARNING: You are using pip version 21.3.1; however, version 22.0.3 is available.\n",
      "You should consider upgrading via the '/usr/local/bin/python3.8 -m pip install --upgrade pip' command.\u001b[0m\n"
     ]
    }
   ],
   "source": [
    "!pip install tensorflow_text==2.7.3"
   ]
  },
  {
   "cell_type": "code",
   "execution_count": 5,
   "metadata": {
    "collapsed": true,
    "id": "3sgnLBKk7iuR",
    "jupyter": {
     "outputs_hidden": true
    },
    "tags": []
   },
   "outputs": [
    {
     "name": "stdout",
     "output_type": "stream",
     "text": [
      "Collecting tf-models-official==2.7.0\n",
      "  Using cached tf_models_official-2.7.0-py2.py3-none-any.whl (1.8 MB)\n",
      "Requirement already satisfied: tensorflow-text>=2.7.0 in /usr/local/lib/python3.8/site-packages (from tf-models-official==2.7.0) (2.7.3)\n",
      "Requirement already satisfied: Pillow in /usr/local/lib/python3.8/site-packages (from tf-models-official==2.7.0) (8.3.2)\n",
      "Requirement already satisfied: matplotlib in /usr/local/lib/python3.8/site-packages (from tf-models-official==2.7.0) (3.5.0)\n",
      "Collecting pycocotools\n",
      "  Using cached pycocotools-2.0.4-cp38-cp38-linux_x86_64.whl\n",
      "Collecting oauth2client\n",
      "  Using cached oauth2client-4.1.3-py2.py3-none-any.whl (98 kB)\n",
      "Collecting google-api-python-client>=1.6.7\n",
      "  Using cached google_api_python_client-2.37.0-py2.py3-none-any.whl (8.1 MB)\n",
      "Collecting seqeval\n",
      "  Using cached seqeval-1.2.2-py3-none-any.whl\n",
      "Collecting Cython\n",
      "  Using cached Cython-0.29.28-cp38-cp38-manylinux_2_17_x86_64.manylinux2014_x86_64.manylinux_2_24_x86_64.whl (1.9 MB)\n",
      "Collecting sentencepiece\n",
      "  Using cached sentencepiece-0.1.96-cp38-cp38-manylinux_2_17_x86_64.manylinux2014_x86_64.whl (1.2 MB)\n",
      "Collecting tensorflow-datasets\n",
      "  Using cached tensorflow_datasets-4.5.2-py3-none-any.whl (4.2 MB)\n",
      "Collecting tensorflow-addons\n",
      "  Using cached tensorflow_addons-0.16.1-cp38-cp38-manylinux_2_12_x86_64.manylinux2010_x86_64.whl (1.1 MB)\n",
      "Requirement already satisfied: psutil>=5.4.3 in /usr/local/lib/python3.8/site-packages (from tf-models-official==2.7.0) (5.8.0)\n",
      "Collecting tensorflow-model-optimization>=0.4.1\n",
      "  Using cached tensorflow_model_optimization-0.7.1-py2.py3-none-any.whl (234 kB)\n",
      "Collecting sacrebleu\n",
      "  Using cached sacrebleu-2.0.0-py3-none-any.whl (90 kB)\n",
      "Requirement already satisfied: numpy>=1.15.4 in /usr/local/lib/python3.8/site-packages (from tf-models-official==2.7.0) (1.19.5)\n",
      "Requirement already satisfied: tensorflow-hub>=0.6.0 in /usr/local/lib/python3.8/site-packages (from tf-models-official==2.7.0) (0.12.0)\n",
      "Collecting py-cpuinfo>=3.3.0\n",
      "  Using cached py_cpuinfo-8.0.0-py3-none-any.whl\n",
      "Collecting kaggle>=1.3.9\n",
      "  Using cached kaggle-1.5.12-py3-none-any.whl\n",
      "Requirement already satisfied: scipy>=0.19.1 in /usr/local/lib/python3.8/site-packages (from tf-models-official==2.7.0) (1.7.0)\n",
      "Collecting gin-config\n",
      "  Using cached gin_config-0.5.0-py3-none-any.whl (61 kB)\n",
      "Collecting tf-slim>=1.1.0\n",
      "  Using cached tf_slim-1.1.0-py2.py3-none-any.whl (352 kB)\n",
      "Requirement already satisfied: pyyaml>=5.1 in /usr/local/lib/python3.8/site-packages (from tf-models-official==2.7.0) (5.4.1)\n",
      "Requirement already satisfied: tensorflow>=2.7.0 in /usr/local/lib/python3.8/site-packages (from tf-models-official==2.7.0) (2.7.1)\n",
      "Requirement already satisfied: six in /usr/local/lib/python3.8/site-packages (from tf-models-official==2.7.0) (1.16.0)\n",
      "Collecting opencv-python-headless\n",
      "  Using cached opencv_python_headless-4.5.5.62-cp36-abi3-manylinux_2_17_x86_64.manylinux2014_x86_64.whl (47.7 MB)\n",
      "Requirement already satisfied: pandas>=0.22.0 in /usr/local/lib/python3.8/site-packages (from tf-models-official==2.7.0) (1.2.5)\n",
      "Collecting httplib2<1dev,>=0.15.0\n",
      "  Using cached httplib2-0.20.4-py3-none-any.whl (96 kB)\n",
      "Collecting uritemplate<5,>=3.0.1\n",
      "  Using cached uritemplate-4.1.1-py2.py3-none-any.whl (10 kB)\n",
      "Requirement already satisfied: google-auth<3.0.0dev,>=1.16.0 in /usr/local/lib/python3.8/site-packages (from google-api-python-client>=1.6.7->tf-models-official==2.7.0) (1.35.0)\n",
      "Collecting google-auth-httplib2>=0.1.0\n",
      "  Using cached google_auth_httplib2-0.1.0-py2.py3-none-any.whl (9.3 kB)\n",
      "Collecting google-api-core<3.0.0dev,>=1.21.0\n",
      "  Using cached google_api_core-2.5.0-py2.py3-none-any.whl (111 kB)\n",
      "Requirement already satisfied: python-dateutil in /usr/local/lib/python3.8/site-packages (from kaggle>=1.3.9->tf-models-official==2.7.0) (2.8.2)\n",
      "Requirement already satisfied: tqdm in /usr/local/lib/python3.8/site-packages (from kaggle>=1.3.9->tf-models-official==2.7.0) (4.62.3)\n",
      "Requirement already satisfied: certifi in /usr/local/lib/python3.8/site-packages (from kaggle>=1.3.9->tf-models-official==2.7.0) (2021.10.8)\n",
      "Requirement already satisfied: urllib3 in /usr/local/lib/python3.8/site-packages (from kaggle>=1.3.9->tf-models-official==2.7.0) (1.26.7)\n",
      "Collecting python-slugify\n",
      "  Using cached python_slugify-6.0.1-py2.py3-none-any.whl (9.0 kB)\n",
      "Requirement already satisfied: requests in /usr/local/lib/python3.8/site-packages (from kaggle>=1.3.9->tf-models-official==2.7.0) (2.25.1)\n",
      "Requirement already satisfied: pytz>=2017.3 in /usr/local/lib/python3.8/site-packages (from pandas>=0.22.0->tf-models-official==2.7.0) (2021.3)\n",
      "Requirement already satisfied: termcolor>=1.1.0 in /usr/local/lib/python3.8/site-packages (from tensorflow>=2.7.0->tf-models-official==2.7.0) (1.1.0)\n",
      "Requirement already satisfied: h5py>=2.9.0 in /usr/local/lib/python3.8/site-packages (from tensorflow>=2.7.0->tf-models-official==2.7.0) (3.1.0)\n",
      "Requirement already satisfied: opt-einsum>=2.3.2 in /usr/local/lib/python3.8/site-packages (from tensorflow>=2.7.0->tf-models-official==2.7.0) (3.3.0)\n",
      "Requirement already satisfied: wheel<1.0,>=0.32.0 in /usr/local/lib/python3.8/site-packages (from tensorflow>=2.7.0->tf-models-official==2.7.0) (0.37.0)\n",
      "Requirement already satisfied: tensorflow-io-gcs-filesystem>=0.21.0 in /usr/local/lib/python3.8/site-packages (from tensorflow>=2.7.0->tf-models-official==2.7.0) (0.21.0)\n",
      "Requirement already satisfied: keras-preprocessing>=1.1.1 in /usr/local/lib/python3.8/site-packages (from tensorflow>=2.7.0->tf-models-official==2.7.0) (1.1.2)\n",
      "Requirement already satisfied: libclang>=9.0.1 in /usr/local/lib/python3.8/site-packages (from tensorflow>=2.7.0->tf-models-official==2.7.0) (13.0.0)\n",
      "Requirement already satisfied: typing-extensions>=3.6.6 in /usr/local/lib/python3.8/site-packages (from tensorflow>=2.7.0->tf-models-official==2.7.0) (3.7.4.3)\n",
      "Requirement already satisfied: google-pasta>=0.1.1 in /usr/local/lib/python3.8/site-packages (from tensorflow>=2.7.0->tf-models-official==2.7.0) (0.2.0)\n",
      "Requirement already satisfied: flatbuffers<3.0,>=1.12 in /usr/local/lib/python3.8/site-packages (from tensorflow>=2.7.0->tf-models-official==2.7.0) (1.12)\n",
      "Requirement already satisfied: keras<2.8,>=2.7.0rc0 in /usr/local/lib/python3.8/site-packages (from tensorflow>=2.7.0->tf-models-official==2.7.0) (2.7.0)\n",
      "Requirement already satisfied: tensorflow-estimator<2.8,~=2.7.0rc0 in /usr/local/lib/python3.8/site-packages (from tensorflow>=2.7.0->tf-models-official==2.7.0) (2.7.0)\n",
      "Requirement already satisfied: astunparse>=1.6.0 in /usr/local/lib/python3.8/site-packages (from tensorflow>=2.7.0->tf-models-official==2.7.0) (1.6.3)\n",
      "Requirement already satisfied: grpcio<2.0,>=1.24.3 in /usr/local/lib/python3.8/site-packages (from tensorflow>=2.7.0->tf-models-official==2.7.0) (1.42.0)\n",
      "Requirement already satisfied: tensorboard~=2.6 in /usr/local/lib/python3.8/site-packages (from tensorflow>=2.7.0->tf-models-official==2.7.0) (2.6.0)\n",
      "Requirement already satisfied: wrapt>=1.11.0 in /usr/local/lib/python3.8/site-packages (from tensorflow>=2.7.0->tf-models-official==2.7.0) (1.12.1)\n",
      "Requirement already satisfied: gast<0.5.0,>=0.2.1 in /usr/local/lib/python3.8/site-packages (from tensorflow>=2.7.0->tf-models-official==2.7.0) (0.4.0)\n",
      "Requirement already satisfied: absl-py>=0.4.0 in /usr/local/lib/python3.8/site-packages (from tensorflow>=2.7.0->tf-models-official==2.7.0) (0.10.0)\n",
      "Requirement already satisfied: protobuf>=3.9.2 in /usr/local/lib/python3.8/site-packages (from tensorflow>=2.7.0->tf-models-official==2.7.0) (3.19.1)\n",
      "Collecting dm-tree~=0.1.1\n",
      "  Using cached dm_tree-0.1.6-cp38-cp38-manylinux_2_24_x86_64.whl (94 kB)\n",
      "Requirement already satisfied: cycler>=0.10 in /usr/local/lib/python3.8/site-packages (from matplotlib->tf-models-official==2.7.0) (0.11.0)\n",
      "Requirement already satisfied: fonttools>=4.22.0 in /usr/local/lib/python3.8/site-packages (from matplotlib->tf-models-official==2.7.0) (4.28.3)\n",
      "Requirement already satisfied: packaging>=20.0 in /usr/local/lib/python3.8/site-packages (from matplotlib->tf-models-official==2.7.0) (21.3)\n",
      "Requirement already satisfied: kiwisolver>=1.0.1 in /usr/local/lib/python3.8/site-packages (from matplotlib->tf-models-official==2.7.0) (1.3.2)\n",
      "Requirement already satisfied: pyparsing>=2.2.1 in /usr/local/lib/python3.8/site-packages (from matplotlib->tf-models-official==2.7.0) (3.0.6)\n",
      "Requirement already satisfied: setuptools-scm>=4 in /usr/local/lib/python3.8/site-packages (from matplotlib->tf-models-official==2.7.0) (6.3.2)\n",
      "Requirement already satisfied: pyasn1>=0.1.7 in /usr/local/lib/python3.8/site-packages (from oauth2client->tf-models-official==2.7.0) (0.4.8)\n",
      "Requirement already satisfied: pyasn1-modules>=0.0.5 in /usr/local/lib/python3.8/site-packages (from oauth2client->tf-models-official==2.7.0) (0.2.8)\n",
      "Requirement already satisfied: rsa>=3.1.4 in /usr/local/lib/python3.8/site-packages (from oauth2client->tf-models-official==2.7.0) (4.7.2)\n",
      "Requirement already satisfied: tabulate>=0.8.9 in /usr/local/lib/python3.8/site-packages (from sacrebleu->tf-models-official==2.7.0) (0.8.9)\n",
      "Requirement already satisfied: colorama in /usr/local/lib/python3.8/site-packages (from sacrebleu->tf-models-official==2.7.0) (0.4.3)\n",
      "Collecting regex\n",
      "  Using cached regex-2022.1.18-cp38-cp38-manylinux_2_17_x86_64.manylinux2014_x86_64.whl (764 kB)\n",
      "Collecting portalocker\n",
      "  Using cached portalocker-2.4.0-py2.py3-none-any.whl (16 kB)\n",
      "Requirement already satisfied: scikit-learn>=0.21.3 in /usr/local/lib/python3.8/site-packages (from seqeval->tf-models-official==2.7.0) (0.24.2)\n",
      "Collecting typeguard>=2.7\n",
      "  Using cached typeguard-2.13.3-py3-none-any.whl (17 kB)\n",
      "Collecting promise\n",
      "  Using cached promise-2.3-py3-none-any.whl\n",
      "Requirement already satisfied: dill in /usr/local/lib/python3.8/site-packages (from tensorflow-datasets->tf-models-official==2.7.0) (0.3.4)\n",
      "Collecting tensorflow-metadata\n",
      "  Using cached tensorflow_metadata-1.6.0-py3-none-any.whl (48 kB)\n",
      "Requirement already satisfied: importlib-resources in /usr/local/lib/python3.8/site-packages (from tensorflow-datasets->tf-models-official==2.7.0) (5.4.0)\n",
      "Collecting googleapis-common-protos<2.0dev,>=1.52.0\n",
      "  Using cached googleapis_common_protos-1.54.0-py2.py3-none-any.whl (207 kB)\n",
      "Requirement already satisfied: cachetools<5.0,>=2.0.0 in /usr/local/lib/python3.8/site-packages (from google-auth<3.0.0dev,>=1.16.0->google-api-python-client>=1.6.7->tf-models-official==2.7.0) (4.2.4)\n",
      "Requirement already satisfied: setuptools>=40.3.0 in /usr/local/lib/python3.8/site-packages (from google-auth<3.0.0dev,>=1.16.0->google-api-python-client>=1.6.7->tf-models-official==2.7.0) (59.5.0)\n",
      "Requirement already satisfied: idna<3,>=2.5 in /usr/local/lib/python3.8/site-packages (from requests->kaggle>=1.3.9->tf-models-official==2.7.0) (2.10)\n",
      "Requirement already satisfied: chardet<5,>=3.0.2 in /usr/local/lib/python3.8/site-packages (from requests->kaggle>=1.3.9->tf-models-official==2.7.0) (4.0.0)\n",
      "Requirement already satisfied: threadpoolctl>=2.0.0 in /usr/local/lib/python3.8/site-packages (from scikit-learn>=0.21.3->seqeval->tf-models-official==2.7.0) (3.0.0)\n",
      "Requirement already satisfied: joblib>=0.11 in /usr/local/lib/python3.8/site-packages (from scikit-learn>=0.21.3->seqeval->tf-models-official==2.7.0) (1.1.0)\n",
      "Requirement already satisfied: tomli>=1.0.0 in /usr/local/lib/python3.8/site-packages (from setuptools-scm>=4->matplotlib->tf-models-official==2.7.0) (1.2.2)\n",
      "Requirement already satisfied: werkzeug>=0.11.15 in /usr/local/lib/python3.8/site-packages (from tensorboard~=2.6->tensorflow>=2.7.0->tf-models-official==2.7.0) (2.0.2)\n",
      "Requirement already satisfied: markdown>=2.6.8 in /usr/local/lib/python3.8/site-packages (from tensorboard~=2.6->tensorflow>=2.7.0->tf-models-official==2.7.0) (3.3.6)\n",
      "Requirement already satisfied: tensorboard-data-server<0.7.0,>=0.6.0 in /usr/local/lib/python3.8/site-packages (from tensorboard~=2.6->tensorflow>=2.7.0->tf-models-official==2.7.0) (0.6.1)\n",
      "Requirement already satisfied: google-auth-oauthlib<0.5,>=0.4.1 in /usr/local/lib/python3.8/site-packages (from tensorboard~=2.6->tensorflow>=2.7.0->tf-models-official==2.7.0) (0.4.6)\n",
      "Requirement already satisfied: tensorboard-plugin-wit>=1.6.0 in /usr/local/lib/python3.8/site-packages (from tensorboard~=2.6->tensorflow>=2.7.0->tf-models-official==2.7.0) (1.8.0)\n",
      "Requirement already satisfied: zipp>=3.1.0 in /usr/local/lib/python3.8/site-packages (from importlib-resources->tensorflow-datasets->tf-models-official==2.7.0) (3.6.0)\n",
      "Collecting text-unidecode>=1.3\n",
      "  Using cached text_unidecode-1.3-py2.py3-none-any.whl (78 kB)\n",
      "Requirement already satisfied: requests-oauthlib>=0.7.0 in /usr/local/lib/python3.8/site-packages (from google-auth-oauthlib<0.5,>=0.4.1->tensorboard~=2.6->tensorflow>=2.7.0->tf-models-official==2.7.0) (1.3.0)\n",
      "Requirement already satisfied: importlib-metadata>=4.4 in /usr/local/lib/python3.8/site-packages (from markdown>=2.6.8->tensorboard~=2.6->tensorflow>=2.7.0->tf-models-official==2.7.0) (4.8.2)\n",
      "Requirement already satisfied: oauthlib>=3.0.0 in /usr/local/lib/python3.8/site-packages (from requests-oauthlib>=0.7.0->google-auth-oauthlib<0.5,>=0.4.1->tensorboard~=2.6->tensorflow>=2.7.0->tf-models-official==2.7.0) (3.1.1)\n",
      "Installing collected packages: text-unidecode, httplib2, googleapis-common-protos, uritemplate, typeguard, tensorflow-metadata, regex, python-slugify, promise, portalocker, google-auth-httplib2, google-api-core, dm-tree, tf-slim, tensorflow-model-optimization, tensorflow-datasets, tensorflow-addons, seqeval, sentencepiece, sacrebleu, pycocotools, py-cpuinfo, opencv-python-headless, oauth2client, kaggle, google-api-python-client, gin-config, Cython, tf-models-official\n",
      "Successfully installed Cython-0.29.28 dm-tree-0.1.6 gin-config-0.5.0 google-api-core-2.5.0 google-api-python-client-2.37.0 google-auth-httplib2-0.1.0 googleapis-common-protos-1.54.0 httplib2-0.20.4 kaggle-1.5.12 oauth2client-4.1.3 opencv-python-headless-4.5.5.62 portalocker-2.4.0 promise-2.3 py-cpuinfo-8.0.0 pycocotools-2.0.4 python-slugify-6.0.1 regex-2022.1.18 sacrebleu-2.0.0 sentencepiece-0.1.96 seqeval-1.2.2 tensorflow-addons-0.16.1 tensorflow-datasets-4.5.2 tensorflow-metadata-1.6.0 tensorflow-model-optimization-0.7.1 text-unidecode-1.3 tf-models-official-2.7.0 tf-slim-1.1.0 typeguard-2.13.3 uritemplate-4.1.1\n",
      "\u001b[33mWARNING: Running pip as the 'root' user can result in broken permissions and conflicting behaviour with the system package manager. It is recommended to use a virtual environment instead: https://pip.pypa.io/warnings/venv\u001b[0m\n",
      "\u001b[33mWARNING: You are using pip version 21.3.1; however, version 22.0.3 is available.\n",
      "You should consider upgrading via the '/usr/local/bin/python3.8 -m pip install --upgrade pip' command.\u001b[0m\n"
     ]
    }
   ],
   "source": [
    "!pip install -U tf-models-official==2.7.0"
   ]
  },
  {
   "cell_type": "code",
   "execution_count": 56,
   "metadata": {
    "id": "M42dnVSk7dVy",
    "tags": []
   },
   "outputs": [],
   "source": [
    "import matplotlib.pyplot as plt\n",
    "import matplotlib.colors as colors\n",
    "\n",
    "import sklearn.metrics\n",
    "import sklearn.calibration\n",
    "\n",
    "import tensorflow_hub as hub\n",
    "import tensorflow_datasets as tfds\n",
    "\n",
    "import numpy as np\n",
    "import tensorflow as tf\n",
    "import pandas as pd\n",
    "import json\n",
    "\n",
    "import official.nlp.modeling.layers as layers\n",
    "import official.nlp.optimization as optimization"
   ]
  },
  {
   "cell_type": "markdown",
   "metadata": {
    "id": "cnRQfguq6GZj"
   },
   "source": [
    "### Implement a standard BERT classifier following which classifies text"
   ]
  },
  {
   "cell_type": "code",
   "execution_count": 57,
   "metadata": {},
   "outputs": [
    {
     "data": {
      "text/plain": [
       "[PhysicalDevice(name='/physical_device:GPU:0', device_type='GPU')]"
      ]
     },
     "execution_count": 57,
     "metadata": {},
     "output_type": "execute_result"
    }
   ],
   "source": [
    "gpus = tf.config.list_physical_devices('GPU')\n",
    "gpus"
   ]
  },
  {
   "cell_type": "code",
   "execution_count": 58,
   "metadata": {
    "id": "bNBEGs7s6NHB",
    "tags": []
   },
   "outputs": [],
   "source": [
    "# Standard BERT model\n",
    "\n",
    "PREPROCESS_HANDLE = 'https://tfhub.dev/tensorflow/bert_en_uncased_preprocess/3'\n",
    "MODEL_HANDLE = 'https://tfhub.dev/tensorflow/bert_en_uncased_L-12_H-768_A-12/3'\n",
    "\n",
    "class BertClassifier(tf.keras.Model):\n",
    "  def __init__(self, \n",
    "               num_classes=150, inner_dim=768, dropout_rate=0.1,\n",
    "               **classifier_kwargs):\n",
    "    \n",
    "    super().__init__()\n",
    "    self.classifier_kwargs = classifier_kwargs\n",
    "\n",
    "    # Initiate the BERT encoder components.\n",
    "    self.bert_preprocessor = hub.KerasLayer(PREPROCESS_HANDLE, name='preprocessing')\n",
    "    self.bert_hidden_layer = hub.KerasLayer(MODEL_HANDLE, trainable=True, name='bert_encoder')\n",
    "\n",
    "    # Defines the encoder and classification layers.\n",
    "    self.bert_encoder = self.make_bert_encoder()\n",
    "    self.classifier = self.make_classification_head(num_classes, inner_dim, dropout_rate)\n",
    "\n",
    "  def make_bert_encoder(self):\n",
    "    text_inputs = tf.keras.layers.Input(shape=(), dtype=tf.string, name='text')\n",
    "    encoder_inputs = self.bert_preprocessor(text_inputs)\n",
    "    encoder_outputs = self.bert_hidden_layer(encoder_inputs)\n",
    "    return tf.keras.Model(text_inputs, encoder_outputs)\n",
    "\n",
    "  def make_classification_head(self, num_classes, inner_dim, dropout_rate):\n",
    "    return layers.ClassificationHead(\n",
    "        num_classes=num_classes, \n",
    "        inner_dim=inner_dim,\n",
    "        dropout_rate=dropout_rate,\n",
    "        **self.classifier_kwargs)\n",
    "\n",
    "  def call(self, inputs, **kwargs):\n",
    "    encoder_outputs = self.bert_encoder(inputs)\n",
    "    classifier_inputs = encoder_outputs['sequence_output']\n",
    "    return self.classifier(classifier_inputs, **kwargs)\n"
   ]
  },
  {
   "cell_type": "markdown",
   "metadata": {
    "id": "SbhbNbKk6WNR"
   },
   "source": [
    "### Build SNGP model"
   ]
  },
  {
   "cell_type": "markdown",
   "metadata": {
    "id": "p7YakN0V6Oif"
   },
   "source": [
    "To implement a BERT-SNGP model designed by Google researchers"
   ]
  },
  {
   "cell_type": "code",
   "execution_count": 59,
   "metadata": {
    "id": "QCaJy85y8WeE",
    "tags": []
   },
   "outputs": [],
   "source": [
    "class ResetCovarianceCallback(tf.keras.callbacks.Callback):\n",
    "\n",
    "  def on_epoch_begin(self, epoch, logs=None):\n",
    "    \"\"\"Resets covariance matrix at the begining of the epoch.\"\"\"\n",
    "    if epoch > 0:\n",
    "      self.model.classifier.reset_covariance_matrix()"
   ]
  },
  {
   "cell_type": "code",
   "execution_count": 60,
   "metadata": {
    "id": "YoHgOuiZ6Q4y",
    "tags": []
   },
   "outputs": [],
   "source": [
    "class SNGPBertClassifier(BertClassifier):\n",
    "\n",
    "  def make_classification_head(self, num_classes, inner_dim, dropout_rate):\n",
    "    return layers.GaussianProcessClassificationHead(\n",
    "        num_classes=num_classes, \n",
    "        inner_dim=inner_dim,\n",
    "        dropout_rate=dropout_rate,\n",
    "        gp_cov_momentum=-1,\n",
    "        temperature=30.,\n",
    "        **self.classifier_kwargs)\n",
    "\n",
    "  def fit(self, *args, **kwargs):\n",
    "    \"\"\"Adds ResetCovarianceCallback to model callbacks.\"\"\"\n",
    "    kwargs['callbacks'] = list(kwargs.get('callbacks', []))\n",
    "    kwargs['callbacks'].append(ResetCovarianceCallback())\n",
    "\n",
    "    return super().fit(*args, **kwargs)"
   ]
  },
  {
   "cell_type": "markdown",
   "metadata": {
    "id": "qdU90uDT6hFq"
   },
   "source": [
    "### Load train and test datasets"
   ]
  },
  {
   "cell_type": "code",
   "execution_count": 61,
   "metadata": {},
   "outputs": [
    {
     "data": {
      "text/plain": [
       "(4500, 2)"
      ]
     },
     "execution_count": 61,
     "metadata": {},
     "output_type": "execute_result"
    }
   ],
   "source": [
    "is_train = pd.read_json('is_train.json')\n",
    "is_train.columns = ['question','intent']\n",
    "\n",
    "is_test = pd.read_json('is_test.json')\n",
    "is_test.columns = ['question','intent']\n",
    "\n",
    "oos_test = pd.read_json('oos_test.json')\n",
    "oos_test.columns = ['question','intent']\n",
    "\n",
    "is_test.shape"
   ]
  },
  {
   "cell_type": "markdown",
   "metadata": {
    "id": "UJSL2nm8Bo02"
   },
   "source": [
    "Make the train and test data."
   ]
  },
  {
   "cell_type": "code",
   "execution_count": 62,
   "metadata": {
    "id": "cgkOOZOq6fQL",
    "tags": []
   },
   "outputs": [],
   "source": [
    "#Generate codes\n",
    "is_data = is_train.append(is_test)\n",
    "is_data.intent = pd.Categorical(is_data.intent)\n",
    "is_data['code'] = is_data.intent.cat.codes\n",
    "\n",
    "#in-scope evaluation data\n",
    "is_test = is_data[15000:19500]\n",
    "\n",
    "is_test_queries = is_test.question\n",
    "is_test_labels = is_test.intent\n",
    "is_test_codes = is_test.code\n",
    "\n",
    "is_eval_data = (tf.convert_to_tensor(is_test_queries), tf.convert_to_tensor(is_test_codes))\n",
    "\n",
    "is_train = is_data[0:15000]\n",
    "is_train_queries = is_train.question\n",
    "is_train_labels = is_train.intent\n",
    "is_train_codes = is_train.code\n",
    "\n",
    "training_ds_queries = tf.convert_to_tensor(is_train_queries)\n",
    "\n",
    "training_ds_labels = tf.convert_to_tensor(is_train_codes)"
   ]
  },
  {
   "cell_type": "code",
   "execution_count": 63,
   "metadata": {},
   "outputs": [
    {
     "data": {
      "text/plain": [
       "(4500, 3)"
      ]
     },
     "execution_count": 63,
     "metadata": {},
     "output_type": "execute_result"
    }
   ],
   "source": [
    "is_test.shape"
   ]
  },
  {
   "cell_type": "markdown",
   "metadata": {
    "id": "Kw76f6caBq_E"
   },
   "source": [
    "Create a OOD evaluation dataset. For this, combine the in-scope test data 'is_test' and out-of-scope 'oos_test' data. Assign label 0 for in-scope and label 1 for out-of-scope data"
   ]
  },
  {
   "cell_type": "code",
   "execution_count": 64,
   "metadata": {
    "id": "uVFuzecR64FJ",
    "tags": []
   },
   "outputs": [],
   "source": [
    "train_size = len(is_train)\n",
    "test_size = len(is_test)\n",
    "oos_size = len(oos_test)\n",
    "\n",
    "# Combines the in-domain and out-of-domain test examples.\n",
    "oos_queries= tf.concat([is_test['question'], oos_test['question']], axis=0)\n",
    "oos_labels = tf.constant([0] * test_size + [1] * oos_size)\n",
    "\n",
    "# Converts into a TF dataset.\n",
    "oos_eval_dataset = tf.data.Dataset.from_tensor_slices(\n",
    "    {\"text\": oos_queries, \"label\": oos_labels})"
   ]
  },
  {
   "cell_type": "markdown",
   "metadata": {
    "id": "ZcHwfwfU6qCE"
   },
   "source": [
    "### Train and evaluate"
   ]
  },
  {
   "cell_type": "code",
   "execution_count": 65,
   "metadata": {
    "id": "_-uUkUtk6qWC",
    "tags": []
   },
   "outputs": [],
   "source": [
    "TRAIN_EPOCHS = 4\n",
    "TRAIN_BATCH_SIZE = 16\n",
    "EVAL_BATCH_SIZE = 256"
   ]
  },
  {
   "cell_type": "code",
   "execution_count": 66,
   "metadata": {
    "cellView": "form",
    "id": "tiEjMdFV6wXQ",
    "tags": []
   },
   "outputs": [],
   "source": [
    "#@title\n",
    "\n",
    "def bert_optimizer(learning_rate, \n",
    "                   batch_size=TRAIN_BATCH_SIZE, epochs=TRAIN_EPOCHS, \n",
    "                   warmup_rate=0.1):\n",
    "  \"\"\"Creates an AdamWeightDecay optimizer with learning rate schedule.\"\"\"\n",
    "  train_data_size = train_size\n",
    "  \n",
    "  steps_per_epoch = int(train_data_size / batch_size)\n",
    "  num_train_steps = steps_per_epoch * epochs\n",
    "  num_warmup_steps = int(warmup_rate * num_train_steps)  \n",
    "\n",
    "  # Creates learning schedule.\n",
    "  lr_schedule = tf.keras.optimizers.schedules.PolynomialDecay(\n",
    "      initial_learning_rate=learning_rate,\n",
    "      decay_steps=num_train_steps,\n",
    "      end_learning_rate=0.0)  \n",
    "  \n",
    "  return optimization.AdamWeightDecay(\n",
    "      learning_rate=lr_schedule,\n",
    "      weight_decay_rate=0.01,\n",
    "      epsilon=1e-6,\n",
    "      exclude_from_weight_decay=['LayerNorm', 'layer_norm', 'bias'])"
   ]
  },
  {
   "cell_type": "code",
   "execution_count": 67,
   "metadata": {
    "id": "KX_Hzl3l6w-H",
    "tags": []
   },
   "outputs": [],
   "source": [
    "optimizer = bert_optimizer(learning_rate=1e-4)\n",
    "loss = tf.keras.losses.SparseCategoricalCrossentropy(from_logits=True)\n",
    "metrics = tf.metrics.SparseCategoricalAccuracy()"
   ]
  },
  {
   "cell_type": "code",
   "execution_count": 68,
   "metadata": {
    "id": "ptn9Cupe6z7o",
    "tags": []
   },
   "outputs": [],
   "source": [
    "fit_configs = dict(batch_size=TRAIN_BATCH_SIZE,\n",
    "                   epochs=TRAIN_EPOCHS,\n",
    "                   validation_batch_size=EVAL_BATCH_SIZE, \n",
    "                   validation_data=is_eval_data)"
   ]
  },
  {
   "cell_type": "markdown",
   "metadata": {},
   "source": [
    "### Model 1 - Batch size of 32 & 3 epochs "
   ]
  },
  {
   "cell_type": "code",
   "execution_count": 21,
   "metadata": {
    "id": "0ZK5PBwW61jd",
    "tags": []
   },
   "outputs": [
    {
     "name": "stdout",
     "output_type": "stream",
     "text": [
      "Epoch 1/2\n",
      "938/938 [==============================] - 481s 494ms/step - loss: 0.8704 - sparse_categorical_accuracy: 0.8241 - val_loss: 0.2888 - val_sparse_categorical_accuracy: 0.9473\n",
      "Epoch 2/2\n",
      "938/938 [==============================] - 464s 495ms/step - loss: 0.0647 - sparse_categorical_accuracy: 0.9853 - val_loss: 0.1979 - val_sparse_categorical_accuracy: 0.9598\n"
     ]
    },
    {
     "data": {
      "text/plain": [
       "<keras.callbacks.History at 0x7f5a2cf725e0>"
      ]
     },
     "execution_count": 21,
     "metadata": {},
     "output_type": "execute_result"
    }
   ],
   "source": [
    "sngp_model = SNGPBertClassifier()\n",
    "sngp_model.compile(optimizer=optimizer, loss=loss, metrics=metrics)\n",
    "sngp_model.fit(training_ds_queries, training_ds_labels, **fit_configs)"
   ]
  },
  {
   "cell_type": "markdown",
   "metadata": {},
   "source": [
    "### Model 2 - Batch size of 16 & 2 epochs "
   ]
  },
  {
   "cell_type": "code",
   "execution_count": 46,
   "metadata": {},
   "outputs": [
    {
     "name": "stdout",
     "output_type": "stream",
     "text": [
      "Epoch 1/3\n",
      "938/938 [==============================] - 480s 495ms/step - loss: 0.9506 - sparse_categorical_accuracy: 0.8029 - val_loss: 0.3883 - val_sparse_categorical_accuracy: 0.9376\n",
      "Epoch 2/3\n",
      "938/938 [==============================] - 462s 493ms/step - loss: 0.0989 - sparse_categorical_accuracy: 0.9769 - val_loss: 0.2342 - val_sparse_categorical_accuracy: 0.9522\n",
      "Epoch 3/3\n",
      "938/938 [==============================] - 462s 493ms/step - loss: 0.0272 - sparse_categorical_accuracy: 0.9939 - val_loss: 0.2013 - val_sparse_categorical_accuracy: 0.9598\n"
     ]
    },
    {
     "data": {
      "text/plain": [
       "<keras.callbacks.History at 0x7f5635f56d30>"
      ]
     },
     "execution_count": 46,
     "metadata": {},
     "output_type": "execute_result"
    }
   ],
   "source": [
    "sngp_model2 = SNGPBertClassifier()\n",
    "sngp_model2.compile(optimizer=optimizer, loss=loss, metrics=metrics)\n",
    "sngp_model2.fit(training_ds_queries, training_ds_labels, **fit_configs)"
   ]
  },
  {
   "cell_type": "markdown",
   "metadata": {},
   "source": [
    "### Model 3 - Batch size of 16 & 4 epochs "
   ]
  },
  {
   "cell_type": "code",
   "execution_count": 69,
   "metadata": {},
   "outputs": [
    {
     "name": "stdout",
     "output_type": "stream",
     "text": [
      "Epoch 1/4\n",
      "938/938 [==============================] - 477s 493ms/step - loss: 0.9459 - sparse_categorical_accuracy: 0.8066 - val_loss: 0.3804 - val_sparse_categorical_accuracy: 0.9393\n",
      "Epoch 2/4\n",
      "938/938 [==============================] - 465s 496ms/step - loss: 0.1192 - sparse_categorical_accuracy: 0.9730 - val_loss: 0.2526 - val_sparse_categorical_accuracy: 0.9511\n",
      "Epoch 3/4\n",
      "938/938 [==============================] - 466s 497ms/step - loss: 0.0372 - sparse_categorical_accuracy: 0.9917 - val_loss: 0.2169 - val_sparse_categorical_accuracy: 0.9564\n",
      "Epoch 4/4\n",
      "938/938 [==============================] - 465s 496ms/step - loss: 0.0135 - sparse_categorical_accuracy: 0.9974 - val_loss: 0.1992 - val_sparse_categorical_accuracy: 0.9629\n"
     ]
    },
    {
     "data": {
      "text/plain": [
       "<keras.callbacks.History at 0x7f55e13d3940>"
      ]
     },
     "execution_count": 69,
     "metadata": {},
     "output_type": "execute_result"
    }
   ],
   "source": [
    "sngp_model3 = SNGPBertClassifier()\n",
    "sngp_model3.compile(optimizer=optimizer, loss=loss, metrics=metrics)\n",
    "sngp_model3.fit(training_ds_queries, training_ds_labels, **fit_configs)"
   ]
  },
  {
   "cell_type": "markdown",
   "metadata": {
    "id": "cpDsgTYx63tO"
   },
   "source": [
    "### Evaluate OOD performance"
   ]
  },
  {
   "cell_type": "markdown",
   "metadata": {
    "id": "d5NGVe7L67bB"
   },
   "source": [
    "Evaluate how well the model can detect the unfamiliar out-of-domain queries."
   ]
  },
  {
   "cell_type": "code",
   "execution_count": 22,
   "metadata": {
    "cellView": "form",
    "id": "yyLgt_lL7APo",
    "tags": []
   },
   "outputs": [],
   "source": [
    "\n",
    "\n",
    "def oos_predict(model, ood_eval_dataset, **model_kwargs):\n",
    "  oos_labels = []\n",
    "  oos_probs = []\n",
    "\n",
    "  ood_eval_dataset = ood_eval_dataset.batch(EVAL_BATCH_SIZE)\n",
    "  for oos_batch in ood_eval_dataset:\n",
    "    oos_text_batch = oos_batch[\"text\"]\n",
    "    oos_label_batch = oos_batch[\"label\"] \n",
    "\n",
    "    pred_logits = model(oos_text_batch, **model_kwargs)\n",
    "    pred_probs_all = tf.nn.softmax(pred_logits, axis=-1)\n",
    "    pred_probs = tf.reduce_max(pred_probs_all, axis=-1)\n",
    "\n",
    "    oos_labels.append(oos_label_batch)\n",
    "    oos_probs.append(pred_probs)\n",
    "\n",
    "  oos_probs = tf.concat(oos_probs, axis=0)\n",
    "  oos_labels = tf.concat(oos_labels, axis=0) \n",
    "\n",
    "  return oos_probs, oos_labels"
   ]
  },
  {
   "cell_type": "markdown",
   "metadata": {
    "id": "Dmc2tVXs6_uo"
   },
   "source": [
    "Computes the OOD probabilities as $1 - p(x)$, where $p(x)=softmax(logit(x))$ is the predictive probability."
   ]
  },
  {
   "cell_type": "code",
   "execution_count": 25,
   "metadata": {
    "id": "_9aFVVDO7C7o",
    "tags": []
   },
   "outputs": [],
   "source": [
    "sngp_probs, ood_labels = oos_predict(sngp_model, oos_eval_dataset)"
   ]
  },
  {
   "cell_type": "code",
   "execution_count": 70,
   "metadata": {},
   "outputs": [],
   "source": [
    "sngp_probs2, ood_labels2 = oos_predict(sngp_model2, oos_eval_dataset)"
   ]
  },
  {
   "cell_type": "code",
   "execution_count": 71,
   "metadata": {},
   "outputs": [],
   "source": [
    "sngp_probs3, ood_labels3 = oos_predict(sngp_model3, oos_eval_dataset)"
   ]
  },
  {
   "cell_type": "code",
   "execution_count": 72,
   "metadata": {
    "id": "_PC0wwZp7GJD",
    "tags": []
   },
   "outputs": [],
   "source": [
    "ood_probs = 1 - sngp_probs\n",
    "ood_probs2 = 1 - sngp_probs2\n",
    "ood_probs3 = 1 - sngp_probs3"
   ]
  },
  {
   "cell_type": "code",
   "execution_count": 73,
   "metadata": {},
   "outputs": [],
   "source": [
    "plt.rcParams['figure.dpi'] = 140\n",
    "\n",
    "DEFAULT_X_RANGE = (-3.5, 3.5)\n",
    "DEFAULT_Y_RANGE = (-2.5, 2.5)\n",
    "DEFAULT_CMAP = colors.ListedColormap([\"#377eb8\", \"#ff7f00\"])\n",
    "DEFAULT_NORM = colors.Normalize(vmin=0, vmax=1,)\n",
    "DEFAULT_N_GRID = 100"
   ]
  },
  {
   "cell_type": "code",
   "execution_count": 74,
   "metadata": {},
   "outputs": [],
   "source": [
    "ood_uncertainty = ood_probs * (1 - ood_probs)\n",
    "ood_uncertainty2 = ood_probs2 * (1 - ood_probs2)\n",
    "ood_uncertainty3 = ood_probs3 * (1 - ood_probs3)"
   ]
  },
  {
   "cell_type": "code",
   "execution_count": 78,
   "metadata": {},
   "outputs": [
    {
     "name": "stdout",
     "output_type": "stream",
     "text": [
      "0.98855245\n"
     ]
    }
   ],
   "source": [
    "s1 = np.array(sngp_probs.numpy())\n",
    "print(s1[3000])"
   ]
  },
  {
   "cell_type": "code",
   "execution_count": 79,
   "metadata": {},
   "outputs": [
    {
     "name": "stdout",
     "output_type": "stream",
     "text": [
      "0.99832803\n"
     ]
    }
   ],
   "source": [
    "s2 = np.array(sngp_probs2.numpy())\n",
    "print(s2[2000])"
   ]
  },
  {
   "cell_type": "code",
   "execution_count": 80,
   "metadata": {},
   "outputs": [
    {
     "name": "stdout",
     "output_type": "stream",
     "text": [
      "0.9983203\n"
     ]
    }
   ],
   "source": [
    "s3 = np.array(sngp_probs3.numpy())\n",
    "print(s3[1000])"
   ]
  },
  {
   "cell_type": "markdown",
   "metadata": {
    "id": "AsandMTX7HjX"
   },
   "source": [
    "### Compute the Area under precision-recall curve (AUPRC) for OOD probability v.s. OOD detection accuracy."
   ]
  },
  {
   "cell_type": "code",
   "execution_count": 81,
   "metadata": {
    "id": "0u5Wx8AP7Mdx",
    "tags": []
   },
   "outputs": [],
   "source": [
    "precision, recall, _ = sklearn.metrics.precision_recall_curve(ood_labels, ood_probs)\n",
    "precision2, recall2, _ = sklearn.metrics.precision_recall_curve(ood_labels2, ood_probs2)\n",
    "precision3, recall3, _ = sklearn.metrics.precision_recall_curve(ood_labels3, ood_probs3)"
   ]
  },
  {
   "cell_type": "code",
   "execution_count": null,
   "metadata": {},
   "outputs": [],
   "source": [
    "print((precision3)\n",
    "print(recall3)"
   ]
  },
  {
   "cell_type": "markdown",
   "metadata": {},
   "source": [
    "[0.23380874 0.23362956 0.23368421 ... 1.         1.         1.        ]\n",
    "[1.    0.999 0.999 ... 0.002 0.001 0.   ]"
   ]
  },
  {
   "cell_type": "code",
   "execution_count": 6,
   "metadata": {},
   "outputs": [
    {
     "data": {
      "text/plain": [
       "1.0"
      ]
     },
     "execution_count": 6,
     "metadata": {},
     "output_type": "execute_result"
    }
   ],
   "source": [
    "sklearn.metrics.recall_score(oos_labels, ood_labels3, average='weighted')"
   ]
  },
  {
   "cell_type": "code",
   "execution_count": 7,
   "metadata": {},
   "outputs": [
    {
     "data": {
      "text/plain": [
       "1.0"
      ]
     },
     "execution_count": 7,
     "metadata": {},
     "output_type": "execute_result"
    }
   ],
   "source": [
    "sklearn.metrics.precision_score(oos_labels, ood_labels3, average='weighted')"
   ]
  },
  {
   "cell_type": "code",
   "execution_count": 33,
   "metadata": {
    "id": "axcctOsh7N5A",
    "tags": []
   },
   "outputs": [
    {
     "name": "stdout",
     "output_type": "stream",
     "text": [
      "SNGP AUPRC: 0.9026\n"
     ]
    }
   ],
   "source": [
    "auprc = sklearn.metrics.auc(recall, precision)\n",
    "print(f'SNGP AUPRC: {auprc:.4f}')"
   ]
  },
  {
   "cell_type": "code",
   "execution_count": 82,
   "metadata": {},
   "outputs": [
    {
     "name": "stdout",
     "output_type": "stream",
     "text": [
      "SNGP AUPRC 2: 0.8926\n"
     ]
    }
   ],
   "source": [
    "auprc2 = sklearn.metrics.auc(recall2, precision2)\n",
    "print(f'SNGP AUPRC 2: {auprc2:.4f}')"
   ]
  },
  {
   "cell_type": "code",
   "execution_count": 83,
   "metadata": {},
   "outputs": [
    {
     "name": "stdout",
     "output_type": "stream",
     "text": [
      "SNGP AUPRC 3: 0.8926\n"
     ]
    }
   ],
   "source": [
    "auprc3 = sklearn.metrics.auc(recall3, precision3)\n",
    "print(f'SNGP AUPRC 3: {auprc3:.4f}')"
   ]
  },
  {
   "cell_type": "code",
   "execution_count": 84,
   "metadata": {
    "id": "x5GxrSWJ7SYn",
    "tags": []
   },
   "outputs": [],
   "source": [
    "prob_true, prob_pred = sklearn.calibration.calibration_curve(\n",
    "    ood_labels, ood_probs, n_bins=10, strategy='quantile')\n",
    "\n",
    "prob_true2, prob_pred2 = sklearn.calibration.calibration_curve(\n",
    "    ood_labels2, ood_probs2, n_bins=10, strategy='quantile')\n",
    "\n",
    "prob_true3, prob_pred3 = sklearn.calibration.calibration_curve(\n",
    "    ood_labels3, ood_probs3, n_bins=10, strategy='quantile')"
   ]
  },
  {
   "cell_type": "code",
   "execution_count": 35,
   "metadata": {
    "id": "ozzJM-D-7XVq",
    "tags": []
   },
   "outputs": [
    {
     "data": {
      "image/png": "[encoded data removed]",
      "text/plain": [
       "<Figure size 840x560 with 1 Axes>"
      ]
     },
     "metadata": {
      "needs_background": "light"
     },
     "output_type": "display_data"
    }
   ],
   "source": [
    "plt.plot(prob_pred, prob_true)\n",
    "\n",
    "plt.plot([0., 1.], [0., 1.], c='k', linestyle=\"--\")\n",
    "plt.xlabel('Predictive Probability')\n",
    "plt.ylabel('Predictive Accuracy')\n",
    "plt.title('Calibration Plots, SNGP')\n",
    "\n",
    "plt.show()"
   ]
  },
  {
   "cell_type": "code",
   "execution_count": 85,
   "metadata": {},
   "outputs": [
    {
     "data": {
      "image/png": "[encoded data removed]",
      "text/plain": [
       "<Figure size 840x560 with 1 Axes>"
      ]
     },
     "metadata": {
      "needs_background": "light"
     },
     "output_type": "display_data"
    }
   ],
   "source": [
    "plt.plot(prob_pred2, prob_true2)\n",
    "\n",
    "plt.plot([0., 1.], [0., 1.], c='k', linestyle=\"--\")\n",
    "plt.xlabel('Predictive Probability')\n",
    "plt.ylabel('Predictive Accuracy')\n",
    "plt.title('Calibration Plots, SNGP')\n",
    "\n",
    "plt.show()"
   ]
  },
  {
   "cell_type": "code",
   "execution_count": 86,
   "metadata": {},
   "outputs": [
    {
     "data": {
      "image/png": "[encoded data removed]",
      "text/plain": [
       "<Figure size 840x560 with 1 Axes>"
      ]
     },
     "metadata": {
      "needs_background": "light"
     },
     "output_type": "display_data"
    }
   ],
   "source": [
    "plt.plot(prob_pred3, prob_true3)\n",
    "\n",
    "plt.plot([0., 1.], [0., 1.], c='k', linestyle=\"--\")\n",
    "plt.xlabel('Predictive Probability')\n",
    "plt.ylabel('Predictive Accuracy')\n",
    "plt.title('Calibration Plots, SNGP')\n",
    "\n",
    "plt.show()"
   ]
  },
  {
   "cell_type": "code",
   "execution_count": 114,
   "metadata": {},
   "outputs": [
    {
     "name": "stdout",
     "output_type": "stream",
     "text": [
      "SNGP Model 1: ROC AUC=0.972\n",
      "SNGP Model 2: ROC AUC=0.973\n",
      "SNGP Model 3: ROC AUC=0.973\n"
     ]
    },
    {
     "data": {
      "image/png": "[encoded data removed]",
      "text/plain": [
       "<Figure size 840x560 with 1 Axes>"
      ]
     },
     "metadata": {
      "needs_background": "light"
     },
     "output_type": "display_data"
    }
   ],
   "source": [
    "# calculate scores\n",
    "auc1 = roc_auc_score(oos_labels, ood_probs)\n",
    "auc2 = roc_auc_score(oos_labels, ood_probs2)\n",
    "auc3 = roc_auc_score(oos_labels, ood_probs3)\n",
    "# summarize scores\n",
    "print('SNGP Model 1: ROC AUC=%.3f' % (auc1))\n",
    "print('SNGP Model 2: ROC AUC=%.3f' % (auc2))\n",
    "print('SNGP Model 3: ROC AUC=%.3f' % (auc3))\n",
    "# calculate roc curves\n",
    "fpr1, tpr1, _ = roc_curve(oos_labels, ood_probs)\n",
    "fpr2, tpr2, _ = roc_curve(oos_labels, ood_probs2)\n",
    "fpr3, tpr3, _ = roc_curve(oos_labels, ood_probs3)\n",
    "# plot the roc curve for the model\n",
    "pyplot.plot(fpr1, tpr1, marker='.', label='SNGP Model 1')\n",
    "pyplot.plot(fpr2, tpr2, marker='*', label='SNGP Model 2')\n",
    "pyplot.plot(fpr3, tpr3, marker='+', label='SNGP Model 3')\n",
    "# axis labels\n",
    "pyplot.xlabel('False Positive Rate (Precision)')\n",
    "pyplot.ylabel('True Positive Rate (Recall)')\n",
    "# show the legend\n",
    "pyplot.legend()\n",
    "# show the plot\n",
    "pyplot.show()"
   ]
  },
  {
   "cell_type": "code",
   "execution_count": null,
   "metadata": {},
   "outputs": [],
   "source": []
  }
 ],
 "metadata": {
  "accelerator": "GPU",
  "colab": {
   "collapsed_sections": [],
   "name": "uncertainty_quantification_with_sngp_bert.ipynb",
   "private_outputs": true,
   "provenance": [
    {
     "file_id": "1rpzuIuHNW4nnnj5mi1NhV9gjmiRy_QWB",
     "timestamp": 1622128463249
    },
    {
     "file_id": "/piper/depot/google3/third_party/tensorflow_text/g3doc/tutorials/uncertainty_quantification_with_sngp_bert.ipynb?workspaceId=markdaoust:no-nightly::citc",
     "timestamp": 1622127860630
    }
   ],
   "toc_visible": true
  },
  "instance_type": "ml.g4dn.xlarge",
  "kernelspec": {
   "display_name": "Python 3 (ipykernel)",
   "language": "python",
   "name": "python3"
  },
  "language_info": {
   "codemirror_mode": {
    "name": "ipython",
    "version": 3
   },
   "file_extension": ".py",
   "mimetype": "text/x-python",
   "name": "python",
   "nbconvert_exporter": "python",
   "pygments_lexer": "ipython3",
   "version": "3.7.11"
  }
 },
 "nbformat": 4,
 "nbformat_minor": 4
}
